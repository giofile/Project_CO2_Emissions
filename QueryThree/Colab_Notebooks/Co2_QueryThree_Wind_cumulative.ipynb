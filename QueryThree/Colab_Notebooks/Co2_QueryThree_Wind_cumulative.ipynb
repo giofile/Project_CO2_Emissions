{
  "cells": [
    {
      "cell_type": "markdown",
      "metadata": {},
      "source": [
        "# Introduction:\n",
        "\n",
        "This analysis explores the global trends in cumulative installed wind energy capacity from 2000 to 2020. By leveraging historical data, we aim to illustrate the rapid expansion of wind energy as a pivotal component of renewable energy strategies worldwide. This investigation highlights key milestones in wind energy capacity growth and underscores the increasing role wind power plays in achieving global sustainability goals."
      ]
    },
    {
      "cell_type": "code",
      "execution_count": null,
      "metadata": {
        "id": "zmfO_BhHfKIF"
      },
      "outputs": [],
      "source": [
        "import pandas as pd\n",
        "\n",
        "# Loading the dataset\n",
        "file_path = 'https://raw.githubusercontent.com/giofile/Project_CO2_Emissions/main/QueryThree/Data_Sources/cumulative-installed-wind-energy-capacity-gigawatts.csv'\n",
        "data = pd.read_csv(file_path)\n",
        "\n",
        "# Display the first and last few rows of the dataframe and the data types of the columns\n",
        "print(data.head())\n",
        "print(data.tail())\n",
        "print(data.dtypes)"
      ]
    },
    {
      "cell_type": "code",
      "execution_count": null,
      "metadata": {
        "id": "SSqAO_7IiotN"
      },
      "outputs": [],
      "source": [
        "import pandas as pd\n",
        "import matplotlib.pyplot as plt\n",
        "\n",
        "# Load the data\n",
        "file_path = 'https://raw.githubusercontent.com/giofile/Project_CO2_Emissions/main/QueryThree/Data_Sources/cumulative-installed-wind-energy-capacity-gigawatts.csv'\n",
        "data = pd.read_csv(file_path)\n",
        "\n",
        "# Display the first few rows and data types\n",
        "print(data.head())\n",
        "print(data.dtypes)\n",
        "\n",
        "# Convert 'Year' to datetime if necessary and sort the data\n",
        "data['Year'] = pd.to_datetime(data['Year'], format='%Y')\n",
        "data.sort_values(by='Year', inplace=True)\n",
        "\n",
        "# Summing up capacities by year to get global wind capacity\n",
        "annual_capacity = data.groupby(data['Year'].dt.year)['Wind energy capacity - GW'].sum().reset_index()\n",
        "\n",
        "# Plotting\n",
        "plt.figure(figsize=(10, 5))\n",
        "plt.plot(annual_capacity['Year'], annual_capacity['Wind energy capacity - GW'], marker='o', linestyle='-', color='b')\n",
        "plt.title('Global Cumulative Installed Wind Energy Capacity Over Time')\n",
        "plt.xlabel('Year')\n",
        "plt.ylabel('Installed Capacity (GW)')\n",
        "plt.grid(True)\n",
        "plt.show()"
      ]
    },
    {
      "cell_type": "markdown",
      "metadata": {
        "id": "wZYRLIKVO232"
      },
      "source": [
        "**Conclusion: Growth in Global Wind Energy Capacity**\n",
        "\n",
        "The graph illustrates a robust exponential increase in global cumulative installed wind energy capacity from 2000 to 2020, highlighting the accelerating adoption of wind power as a key component of renewable energy strategies worldwide. This surge reflects significant advancements in wind turbine technology, alongside decreasing costs and increasing efficiency, making wind energy more accessible and viable. The sharp rise especially after 2010 indicates strong global commitment and investment in renewable energy to meet growing power needs and environmental goals. This trend underscores the potential of wind energy to play a crucial role in the global transition to sustainable energy systems.\n"
      ]
    }
  ],
  "metadata": {
    "colab": {
      "provenance": []
    },
    "kernelspec": {
      "display_name": "Python 3",
      "name": "python3"
    },
    "language_info": {
      "name": "python"
    }
  },
  "nbformat": 4,
  "nbformat_minor": 0
}

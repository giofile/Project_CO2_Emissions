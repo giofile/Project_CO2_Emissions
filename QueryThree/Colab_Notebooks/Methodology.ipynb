{
  "cells": [
    {
      "cell_type": "markdown",
      "metadata": {},
      "source": [
        "# \tExplanation of Methodology and Data Sources\n",
        "\n",
        "The analysis uses historical cost data sourced from Our World in Data, which provides extensive datasets on global energy trends and technology costs. Python libraries such as NumPy, Pandas, Matplotlib, and scikit-learn were utilized for data processing, visualization, and predictive modeling. Google Colab was used as the coding environment to efficiently handle and visualize the large datasets.\n",
        "To predict future costs, the historical data was first transformed using a logarithmic scale to account for the exponential decline in costs over time. A linear regression model was then applied to forecast future costs up to 2050. Each technology's future cost trends were predicted based on these.\n"
      ]
    }
  ],
  "metadata": {
    "colab": {
      "provenance": []
    },
    "kernelspec": {
      "display_name": "Python 3",
      "name": "python3"
    },
    "language_info": {
      "name": "python"
    }
  },
  "nbformat": 4,
  "nbformat_minor": 0
}

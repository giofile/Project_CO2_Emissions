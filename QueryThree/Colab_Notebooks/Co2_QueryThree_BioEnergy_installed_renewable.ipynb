{
  "cells": [
    {
      "cell_type": "markdown",
      "metadata": {},
      "source": [
        "# Introduction:\n",
        "\n",
        "*This analysis explores the trends in installed renewable energy capacity across various technologies over the past two decades. By examining the growth trajectories of energy sources such as wind, solar, and bioenergy, we aim to understand the dynamic expansion of renewables in the global energy landscape. This visualization offers insights into how different renewable technologies have scaled over time, helping identify which technologies have made the most significant contributions to the overall increase in global installed capacity.*"
      ]
    },
    {
      "cell_type": "code",
      "execution_count": null,
      "metadata": {
        "id": "xBTGoyssSuAD"
      },
      "outputs": [],
      "source": [
        "import pandas as pd\n",
        "import matplotlib.pyplot as plt\n",
        "\n",
        "# Load the dataset\n",
        "data = pd.read_csv('https://raw.githubusercontent.com/giofile/Project_CO2_Emissions/main/QueryThree/Data_Sources/installed-global-renewable-energy-capacity-by-technology.csv').copy()\n",
        "\n",
        "\n",
        "# Convert 'Year' to datetime and ensure 'Capacity' is a float\n",
        "data['Year'] = pd.to_datetime(data['Year'], format='%Y').copy()\n",
        "data['Capacity'] = pd.to_numeric(data['Capacity'], errors='coerce').copy()\n",
        "\n",
        "# Define a function to plot data for a specific energy type\n",
        "def plot_energy_type(data, entity, label):\n",
        "    entity_data = data[data['Entity'] == entity].copy()\n",
        "    plt.plot(entity_data['Year'], entity_data['Capacity'], label=label, marker='o')\n",
        "\n",
        "# Plotting\n",
        "plt.figure(figsize=(14, 7))\n",
        "\n",
        "# List of energy types for plotting\n",
        "energy_types = [\n",
        "    ('Bagasse', 'Bagasse'),\n",
        "    ('Bioenergy', 'Bioenergy'),\n",
        "    ('Biogas', 'Biogas'),\n",
        "    ('Concentrated solar power', 'Concentrated Solar Power'),\n",
        "    ('Geothermal energy', 'Geothermal Energy'),\n",
        "    ('Hydropower', 'Hydropower'),\n",
        "    ('Liquid biofuels', 'Liquid Biofuels'),\n",
        "    ('Marine energy', 'Marine Energy'),\n",
        "    ('Offshore wind energy', 'Offshore Wind Energy'),\n",
        "    ('Onshore wind energy', 'Onshore Wind Energy'),\n",
        "    ('Other solid biofuels', 'Other Solid Biofuels'),\n",
        "    ('Pure pumped storage', 'Pure Pumped Storage'),\n",
        "    ('Renewable hydropower including mixed plants', 'Renewable Hydropower'),\n",
        "    ('Renewable municipal waste', 'Renewable Municipal Waste'),\n",
        "    ('Solar energy', 'Solar Energy'),\n",
        "    ('Solar photovoltaic', 'Solar Photovoltaic'),\n",
        "    ('Solid biofuels and renewable waste', 'Solid Biofuels and Renewable Waste'),\n",
        "    ('Total renewable energy', 'Total Renewable Energy'),\n",
        "    ('Wind energy', 'Wind Energy')\n",
        "]\n",
        "\n",
        "# Plot each energy type\n",
        "for entity, label in energy_types:\n",
        "    plot_energy_type(data, entity, label)\n",
        "\n",
        "plt.title('Installed Renewable Energy Capacity Over Time')\n",
        "plt.xlabel('Year')\n",
        "plt.ylabel('Installed Capacity (GW)')\n",
        "plt.legend()\n",
        "plt.grid(True)\n",
        "plt.show()"
      ]
    },
    {
      "cell_type": "markdown",
      "metadata": {
        "id": "FAcx4tPiX5t1"
      },
      "source": []
    },
    {
      "cell_type": "markdown",
      "metadata": {
        "id": "2qY0U3ELV7yI"
      },
      "source": [
        "**Conclusion - Bioenergy Installed Renewable**\n",
        "\n",
        "Based on the analysis and visualization of installed renewable energy capacity over time, it is evident that wind energy, solar photovoltaic, and total renewable energy have shown significant growth, particularly in recent years. This trend underscores the increasing adoption and scalability of these technologies in the global energy mix. The well-structured code efficiently manages multiple energy types, offering a clear and insightful visualization of these trends. These findings are critical for decision-makers in policy and investment to focus on the most promising renewable energy technologies.\n"
      ]
    }
  ],
  "metadata": {
    "colab": {
      "provenance": []
    },
    "kernelspec": {
      "display_name": "Python 3",
      "name": "python3"
    },
    "language_info": {
      "name": "python"
    }
  },
  "nbformat": 4,
  "nbformat_minor": 0
}

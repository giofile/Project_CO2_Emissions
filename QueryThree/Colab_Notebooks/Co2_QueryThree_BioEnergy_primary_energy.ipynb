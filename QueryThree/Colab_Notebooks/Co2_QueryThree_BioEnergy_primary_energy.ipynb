{
  "cells": [
    {
      "cell_type": "markdown",
      "metadata": {
        "id": "TTZXSvJYjD3j"
      },
      "source": [
        "\n",
        "**Introduction:**\n",
        "\n",
        "This analysis traces the growth of global renewable energy consumption from the 1970s to the present, utilizing historical data to illustrate significant trends and milestones in renewable energy adoption. By visualizing this data, we seek to understand the scale and pace of global shifts toward renewable energy sources over five decades.\n"
      ]
    },
    {
      "cell_type": "code",
      "execution_count": null,
      "metadata": {
        "colab": {
          "base_uri": "https://localhost:8080/"
        },
        "id": "kthKV_H4Wxg2",
        "outputId": "a4700ee3-b27a-4894-fbdf-ac85c7167bb5"
      },
      "outputs": [
        {
          "name": "stdout",
          "output_type": "stream",
          "text": [
            "Mounted at /content/drive\n"
          ]
        }
      ],
      "source": [
        "from google.colab import drive\n",
        "drive.mount('/content/drive', force_remount=True)"
      ]
    },
    {
      "cell_type": "code",
      "execution_count": null,
      "metadata": {
        "colab": {
          "base_uri": "https://localhost:8080/"
        },
        "id": "kTCDKOuzcS5R",
        "outputId": "711c8e6f-15ba-4bf9-ce23-2615e5819e92"
      },
      "outputs": [
        {
          "name": "stdout",
          "output_type": "stream",
          "text": [
            "   Entity Code  Year  Renewables (TWh - equivalent)\n",
            "0  Africa  NaN  1965                      41.118813\n",
            "1  Africa  NaN  1966                      45.862915\n",
            "2  Africa  NaN  1967                      47.875538\n",
            "3  Africa  NaN  1968                      56.000470\n",
            "4  Africa  NaN  1969                      65.352100\n",
            "     Entity      Code  Year  Renewables (TWh - equivalent)\n",
            "5474  World  OWID_WRL  2018                      18990.977\n",
            "5475  World  OWID_WRL  2019                      19985.840\n",
            "5476  World  OWID_WRL  2020                      21134.498\n",
            "5477  World  OWID_WRL  2021                      22323.965\n",
            "5478  World  OWID_WRL  2022                      23848.668\n",
            "Entity                            object\n",
            "Code                              object\n",
            "Year                               int64\n",
            "Renewables (TWh - equivalent)    float64\n",
            "dtype: object\n"
          ]
        }
      ],
      "source": [
        "import pandas as pd\n",
        "\n",
        "# Assuming the file path in the system is correctly pointed to where you uploaded the file\n",
        "file_path = 'https://raw.githubusercontent.com/giofile/Project_CO2_Emissions/main/QueryThree/Data_Sources/primary-energy-renewables.csv'\n",
        "data = pd.read_csv(file_path).copy()\n",
        "\n",
        "# Display the first and last few rows of the dataframe and the data types of the columns\n",
        "print(data.head())\n",
        "print(data.tail())\n",
        "print(data.dtypes)"
      ]
    },
    {
      "cell_type": "code",
      "execution_count": null,
      "metadata": {
        "id": "1ZBidCU0c3Zl"
      },
      "outputs": [],
      "source": [
        "import matplotlib.pyplot as plt\n",
        "import pandas as pd\n",
        "\n",
        "# Load your data\n",
        "data = pd.read_csv('/content/drive/MyDrive/Colab Notebooks/Projects/Co2-QueryThree/primary-energy-renewables.csv')\n",
        "\n",
        "# Data cleaning\n",
        "data.dropna(inplace=True)  # Example: drop missing values\n",
        "data['Year'] = pd.to_datetime(data['Year'], format='%Y').copy()  # Ensure 'Year' is datetime type\n",
        "\n",
        "# Aggregate data by year\n",
        "yearly_data = data.groupby('Year')['Renewables (TWh - equivalent)'].sum().copy()\n",
        "\n",
        "# Plotting\n",
        "plt.figure(figsize=(12, 6))\n",
        "plt.plot(yearly_data.index, yearly_data, marker='o', linestyle='-', color='b')\n",
        "plt.title('Global Renewable Energy Consumption Over Time')\n",
        "plt.xlabel('Year')\n",
        "plt.ylabel('Renewables (TWh - equivalent)')\n",
        "plt.grid(True)\n",
        "plt.show()\n"
      ]
    },
    {
      "cell_type": "markdown",
      "metadata": {
        "id": "69KOYX65jLRu"
      },
      "source": [
        "**Conclusion: Global Renewable Energy Growth Trends:**\n",
        "\n",
        "The graph displays a remarkable exponential increase in global renewable energy consumption, particularly evident since the early 2000s. This surge reflects the intensified global commitment to renewable energy as a response to climate change and the decreasing cost of renewable technologies. The steep growth curve underscores the rapid scalability and growing importance of renewables in the global energy mix, pointing towards a future where renewables may dominate energy production. This trend is crucial for stakeholders in policy making, investment, and environmental planning, indicating a strong movement towards sustainable energy solutions.\n"
      ]
    }
  ],
  "metadata": {
    "colab": {
      "provenance": []
    },
    "kernelspec": {
      "display_name": "Python 3",
      "name": "python3"
    },
    "language_info": {
      "name": "python"
    }
  },
  "nbformat": 4,
  "nbformat_minor": 0
}
